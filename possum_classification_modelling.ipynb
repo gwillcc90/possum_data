{
 "cells": [
  {
   "cell_type": "code",
   "execution_count": 135,
   "id": "355fb5b1",
   "metadata": {},
   "outputs": [],
   "source": [
    "# Should split this into a second file for regression task\n",
    "\n",
    "# Standard libs\n",
    "import numpy as np\n",
    "import pandas as pd\n",
    "\n",
    "# Debugging\n",
    "from icecream import ic\n",
    "\n",
    "# Predictive modelling\n",
    "from sklearn.linear_model import LogisticRegression\n",
    "from sklearn.tree import DecisionTreeClassifier\n",
    "from sklearn.ensemble import RandomForestClassifier, BaggingClassifier\n",
    "from sklearn.ensemble import AdaBoostClassifier, GradientBoostingClassifier\n",
    "from sklearn.neighbors import KNeighborsRegressor, KNeighborsClassifier\n",
    "from sklearn.svm import SVR, SVC\n",
    "\n",
    "# NN functions\n",
    "from keras.layers import Dense, Dropout, BatchNormalization\n",
    "from keras.models import Sequential\n",
    "\n",
    "# Metrics\n",
    "from sklearn.metrics import accuracy_score, confusion_matrix, classification_report\n",
    "# CV ; splitting\n",
    "from sklearn.model_selection import cross_val_score, train_test_split, GridSearchCV"
   ]
  },
  {
   "cell_type": "markdown",
   "id": "9eb92fcb",
   "metadata": {},
   "source": [
    "We can actually try to predict every numeric and categorical feature in this dataset, but for now let's do classification on possum population class `Pop`."
   ]
  },
  {
   "cell_type": "code",
   "execution_count": 2,
   "id": "f117673c",
   "metadata": {},
   "outputs": [],
   "source": [
    "d = pd.read_csv('possum.csv')"
   ]
  },
  {
   "cell_type": "code",
   "execution_count": 3,
   "id": "c342c9d7",
   "metadata": {},
   "outputs": [
    {
     "data": {
      "text/html": [
       "<div>\n",
       "<style scoped>\n",
       "    .dataframe tbody tr th:only-of-type {\n",
       "        vertical-align: middle;\n",
       "    }\n",
       "\n",
       "    .dataframe tbody tr th {\n",
       "        vertical-align: top;\n",
       "    }\n",
       "\n",
       "    .dataframe thead th {\n",
       "        text-align: right;\n",
       "    }\n",
       "</style>\n",
       "<table border=\"1\" class=\"dataframe\">\n",
       "  <thead>\n",
       "    <tr style=\"text-align: right;\">\n",
       "      <th></th>\n",
       "      <th>case</th>\n",
       "      <th>site</th>\n",
       "      <th>Pop</th>\n",
       "      <th>sex</th>\n",
       "      <th>age</th>\n",
       "      <th>hdlngth</th>\n",
       "      <th>skullw</th>\n",
       "      <th>totlngth</th>\n",
       "      <th>taill</th>\n",
       "      <th>footlgth</th>\n",
       "      <th>earconch</th>\n",
       "      <th>eye</th>\n",
       "      <th>chest</th>\n",
       "      <th>belly</th>\n",
       "    </tr>\n",
       "  </thead>\n",
       "  <tbody>\n",
       "    <tr>\n",
       "      <th>0</th>\n",
       "      <td>1</td>\n",
       "      <td>1</td>\n",
       "      <td>Vic</td>\n",
       "      <td>m</td>\n",
       "      <td>8.0</td>\n",
       "      <td>94.1</td>\n",
       "      <td>60.4</td>\n",
       "      <td>89.0</td>\n",
       "      <td>36.0</td>\n",
       "      <td>74.5</td>\n",
       "      <td>54.5</td>\n",
       "      <td>15.2</td>\n",
       "      <td>28.0</td>\n",
       "      <td>36.0</td>\n",
       "    </tr>\n",
       "    <tr>\n",
       "      <th>1</th>\n",
       "      <td>2</td>\n",
       "      <td>1</td>\n",
       "      <td>Vic</td>\n",
       "      <td>f</td>\n",
       "      <td>6.0</td>\n",
       "      <td>92.5</td>\n",
       "      <td>57.6</td>\n",
       "      <td>91.5</td>\n",
       "      <td>36.5</td>\n",
       "      <td>72.5</td>\n",
       "      <td>51.2</td>\n",
       "      <td>16.0</td>\n",
       "      <td>28.5</td>\n",
       "      <td>33.0</td>\n",
       "    </tr>\n",
       "    <tr>\n",
       "      <th>2</th>\n",
       "      <td>3</td>\n",
       "      <td>1</td>\n",
       "      <td>Vic</td>\n",
       "      <td>f</td>\n",
       "      <td>6.0</td>\n",
       "      <td>94.0</td>\n",
       "      <td>60.0</td>\n",
       "      <td>95.5</td>\n",
       "      <td>39.0</td>\n",
       "      <td>75.4</td>\n",
       "      <td>51.9</td>\n",
       "      <td>15.5</td>\n",
       "      <td>30.0</td>\n",
       "      <td>34.0</td>\n",
       "    </tr>\n",
       "    <tr>\n",
       "      <th>3</th>\n",
       "      <td>4</td>\n",
       "      <td>1</td>\n",
       "      <td>Vic</td>\n",
       "      <td>f</td>\n",
       "      <td>6.0</td>\n",
       "      <td>93.2</td>\n",
       "      <td>57.1</td>\n",
       "      <td>92.0</td>\n",
       "      <td>38.0</td>\n",
       "      <td>76.1</td>\n",
       "      <td>52.2</td>\n",
       "      <td>15.2</td>\n",
       "      <td>28.0</td>\n",
       "      <td>34.0</td>\n",
       "    </tr>\n",
       "    <tr>\n",
       "      <th>4</th>\n",
       "      <td>5</td>\n",
       "      <td>1</td>\n",
       "      <td>Vic</td>\n",
       "      <td>f</td>\n",
       "      <td>2.0</td>\n",
       "      <td>91.5</td>\n",
       "      <td>56.3</td>\n",
       "      <td>85.5</td>\n",
       "      <td>36.0</td>\n",
       "      <td>71.0</td>\n",
       "      <td>53.2</td>\n",
       "      <td>15.1</td>\n",
       "      <td>28.5</td>\n",
       "      <td>33.0</td>\n",
       "    </tr>\n",
       "  </tbody>\n",
       "</table>\n",
       "</div>"
      ],
      "text/plain": [
       "   case  site  Pop sex  age  hdlngth  skullw  totlngth  taill  footlgth  \\\n",
       "0     1     1  Vic   m  8.0     94.1    60.4      89.0   36.0      74.5   \n",
       "1     2     1  Vic   f  6.0     92.5    57.6      91.5   36.5      72.5   \n",
       "2     3     1  Vic   f  6.0     94.0    60.0      95.5   39.0      75.4   \n",
       "3     4     1  Vic   f  6.0     93.2    57.1      92.0   38.0      76.1   \n",
       "4     5     1  Vic   f  2.0     91.5    56.3      85.5   36.0      71.0   \n",
       "\n",
       "   earconch   eye  chest  belly  \n",
       "0      54.5  15.2   28.0   36.0  \n",
       "1      51.2  16.0   28.5   33.0  \n",
       "2      51.9  15.5   30.0   34.0  \n",
       "3      52.2  15.2   28.0   34.0  \n",
       "4      53.2  15.1   28.5   33.0  "
      ]
     },
     "execution_count": 3,
     "metadata": {},
     "output_type": "execute_result"
    }
   ],
   "source": [
    "d.head()"
   ]
  },
  {
   "cell_type": "code",
   "execution_count": 4,
   "id": "35458a11",
   "metadata": {},
   "outputs": [
    {
     "data": {
      "text/plain": [
       "case        0\n",
       "site        0\n",
       "Pop         0\n",
       "sex         0\n",
       "age         2\n",
       "hdlngth     0\n",
       "skullw      0\n",
       "totlngth    0\n",
       "taill       0\n",
       "footlgth    1\n",
       "earconch    0\n",
       "eye         0\n",
       "chest       0\n",
       "belly       0\n",
       "dtype: int64"
      ]
     },
     "execution_count": 4,
     "metadata": {},
     "output_type": "execute_result"
    }
   ],
   "source": [
    "d.isna().sum()"
   ]
  },
  {
   "cell_type": "markdown",
   "id": "79a44627",
   "metadata": {},
   "source": [
    "**Preprocessing**"
   ]
  },
  {
   "cell_type": "code",
   "execution_count": 5,
   "id": "93c7a4f6",
   "metadata": {},
   "outputs": [],
   "source": [
    "d['age'] = d['age'].fillna(d['age'].median())\n",
    "d['footlgth'] = d['footlgth'].fillna(d['footlgth'].mean())"
   ]
  },
  {
   "cell_type": "code",
   "execution_count": 6,
   "id": "0518d039",
   "metadata": {
    "collapsed": true
   },
   "outputs": [
    {
     "data": {
      "text/plain": [
       "case        0\n",
       "site        0\n",
       "Pop         0\n",
       "sex         0\n",
       "age         0\n",
       "hdlngth     0\n",
       "skullw      0\n",
       "totlngth    0\n",
       "taill       0\n",
       "footlgth    0\n",
       "earconch    0\n",
       "eye         0\n",
       "chest       0\n",
       "belly       0\n",
       "dtype: int64"
      ]
     },
     "execution_count": 6,
     "metadata": {},
     "output_type": "execute_result"
    }
   ],
   "source": [
    "d.isna().sum()"
   ]
  },
  {
   "cell_type": "code",
   "execution_count": 7,
   "id": "8d78e230",
   "metadata": {},
   "outputs": [],
   "source": [
    "# One-hot encode categorical variables and concatenate with dataframe\n",
    "d = pd.concat([pd.get_dummies(d['site'], drop_first=True), \n",
    "               pd.get_dummies(d['Pop'], drop_first=True),\n",
    "               pd.get_dummies(d['sex'], drop_first=True),\n",
    "              d.drop(['site','Pop','sex', 'case'], axis = 1)], axis = 1)"
   ]
  },
  {
   "cell_type": "code",
   "execution_count": 8,
   "id": "af46ac98",
   "metadata": {},
   "outputs": [],
   "source": [
    "# Convert age to integer value for categorization\n",
    "d = d.astype({'age': int})"
   ]
  },
  {
   "cell_type": "code",
   "execution_count": 9,
   "id": "17939027",
   "metadata": {},
   "outputs": [],
   "source": [
    "# Create models\n",
    "# For later...\n",
    "# regressors = [LinearRegression(), \n",
    "#               DecisionTreeRegressor(), \n",
    "#               RandomForestRegressor(), \n",
    "#               BaggingRegressor(), \n",
    "#               AdaBoostRegressor(), \n",
    "#               GradientBoostingRegressor(), \n",
    "#               KNeighborsRegressor()]\n",
    "\n",
    "\n",
    "# classifiers = [LogisticRegression(), \n",
    "#                DecisionTreeClassifier(), \n",
    "#                RandomForestClassifier(), \n",
    "#                BaggingClassifier(),\n",
    "#                AdaBoostClassifier(), \n",
    "#                GradientBoostingClassifier(), \n",
    "#                KNeighborsClassifier()]"
   ]
  },
  {
   "cell_type": "code",
   "execution_count": 10,
   "id": "5121cfeb",
   "metadata": {},
   "outputs": [
    {
     "data": {
      "text/html": [
       "<div>\n",
       "<style scoped>\n",
       "    .dataframe tbody tr th:only-of-type {\n",
       "        vertical-align: middle;\n",
       "    }\n",
       "\n",
       "    .dataframe tbody tr th {\n",
       "        vertical-align: top;\n",
       "    }\n",
       "\n",
       "    .dataframe thead th {\n",
       "        text-align: right;\n",
       "    }\n",
       "</style>\n",
       "<table border=\"1\" class=\"dataframe\">\n",
       "  <thead>\n",
       "    <tr style=\"text-align: right;\">\n",
       "      <th></th>\n",
       "      <th>2</th>\n",
       "      <th>3</th>\n",
       "      <th>4</th>\n",
       "      <th>5</th>\n",
       "      <th>6</th>\n",
       "      <th>7</th>\n",
       "      <th>other</th>\n",
       "      <th>m</th>\n",
       "      <th>age</th>\n",
       "      <th>hdlngth</th>\n",
       "      <th>skullw</th>\n",
       "      <th>totlngth</th>\n",
       "      <th>taill</th>\n",
       "      <th>footlgth</th>\n",
       "      <th>earconch</th>\n",
       "      <th>eye</th>\n",
       "      <th>chest</th>\n",
       "      <th>belly</th>\n",
       "    </tr>\n",
       "  </thead>\n",
       "  <tbody>\n",
       "    <tr>\n",
       "      <th>0</th>\n",
       "      <td>0</td>\n",
       "      <td>0</td>\n",
       "      <td>0</td>\n",
       "      <td>0</td>\n",
       "      <td>0</td>\n",
       "      <td>0</td>\n",
       "      <td>0</td>\n",
       "      <td>1</td>\n",
       "      <td>8</td>\n",
       "      <td>94.1</td>\n",
       "      <td>60.4</td>\n",
       "      <td>89.0</td>\n",
       "      <td>36.0</td>\n",
       "      <td>74.5</td>\n",
       "      <td>54.5</td>\n",
       "      <td>15.2</td>\n",
       "      <td>28.0</td>\n",
       "      <td>36.0</td>\n",
       "    </tr>\n",
       "    <tr>\n",
       "      <th>1</th>\n",
       "      <td>0</td>\n",
       "      <td>0</td>\n",
       "      <td>0</td>\n",
       "      <td>0</td>\n",
       "      <td>0</td>\n",
       "      <td>0</td>\n",
       "      <td>0</td>\n",
       "      <td>0</td>\n",
       "      <td>6</td>\n",
       "      <td>92.5</td>\n",
       "      <td>57.6</td>\n",
       "      <td>91.5</td>\n",
       "      <td>36.5</td>\n",
       "      <td>72.5</td>\n",
       "      <td>51.2</td>\n",
       "      <td>16.0</td>\n",
       "      <td>28.5</td>\n",
       "      <td>33.0</td>\n",
       "    </tr>\n",
       "    <tr>\n",
       "      <th>2</th>\n",
       "      <td>0</td>\n",
       "      <td>0</td>\n",
       "      <td>0</td>\n",
       "      <td>0</td>\n",
       "      <td>0</td>\n",
       "      <td>0</td>\n",
       "      <td>0</td>\n",
       "      <td>0</td>\n",
       "      <td>6</td>\n",
       "      <td>94.0</td>\n",
       "      <td>60.0</td>\n",
       "      <td>95.5</td>\n",
       "      <td>39.0</td>\n",
       "      <td>75.4</td>\n",
       "      <td>51.9</td>\n",
       "      <td>15.5</td>\n",
       "      <td>30.0</td>\n",
       "      <td>34.0</td>\n",
       "    </tr>\n",
       "    <tr>\n",
       "      <th>3</th>\n",
       "      <td>0</td>\n",
       "      <td>0</td>\n",
       "      <td>0</td>\n",
       "      <td>0</td>\n",
       "      <td>0</td>\n",
       "      <td>0</td>\n",
       "      <td>0</td>\n",
       "      <td>0</td>\n",
       "      <td>6</td>\n",
       "      <td>93.2</td>\n",
       "      <td>57.1</td>\n",
       "      <td>92.0</td>\n",
       "      <td>38.0</td>\n",
       "      <td>76.1</td>\n",
       "      <td>52.2</td>\n",
       "      <td>15.2</td>\n",
       "      <td>28.0</td>\n",
       "      <td>34.0</td>\n",
       "    </tr>\n",
       "    <tr>\n",
       "      <th>4</th>\n",
       "      <td>0</td>\n",
       "      <td>0</td>\n",
       "      <td>0</td>\n",
       "      <td>0</td>\n",
       "      <td>0</td>\n",
       "      <td>0</td>\n",
       "      <td>0</td>\n",
       "      <td>0</td>\n",
       "      <td>2</td>\n",
       "      <td>91.5</td>\n",
       "      <td>56.3</td>\n",
       "      <td>85.5</td>\n",
       "      <td>36.0</td>\n",
       "      <td>71.0</td>\n",
       "      <td>53.2</td>\n",
       "      <td>15.1</td>\n",
       "      <td>28.5</td>\n",
       "      <td>33.0</td>\n",
       "    </tr>\n",
       "  </tbody>\n",
       "</table>\n",
       "</div>"
      ],
      "text/plain": [
       "   2  3  4  5  6  7  other  m  age  hdlngth  skullw  totlngth  taill  \\\n",
       "0  0  0  0  0  0  0      0  1    8     94.1    60.4      89.0   36.0   \n",
       "1  0  0  0  0  0  0      0  0    6     92.5    57.6      91.5   36.5   \n",
       "2  0  0  0  0  0  0      0  0    6     94.0    60.0      95.5   39.0   \n",
       "3  0  0  0  0  0  0      0  0    6     93.2    57.1      92.0   38.0   \n",
       "4  0  0  0  0  0  0      0  0    2     91.5    56.3      85.5   36.0   \n",
       "\n",
       "   footlgth  earconch   eye  chest  belly  \n",
       "0      74.5      54.5  15.2   28.0   36.0  \n",
       "1      72.5      51.2  16.0   28.5   33.0  \n",
       "2      75.4      51.9  15.5   30.0   34.0  \n",
       "3      76.1      52.2  15.2   28.0   34.0  \n",
       "4      71.0      53.2  15.1   28.5   33.0  "
      ]
     },
     "execution_count": 10,
     "metadata": {},
     "output_type": "execute_result"
    }
   ],
   "source": [
    "d.head()"
   ]
  },
  {
   "cell_type": "code",
   "execution_count": 11,
   "id": "93bccbc7",
   "metadata": {},
   "outputs": [],
   "source": [
    "X = d.drop('other', axis = 1)\n",
    "y = d['other']\n",
    "\n",
    "X_train, X_test, y_train, y_test = train_test_split(X, y, test_size=.15, random_state=42)"
   ]
  },
  {
   "cell_type": "markdown",
   "id": "2b1f88fc",
   "metadata": {},
   "source": [
    "# Logistic Regression Classification"
   ]
  },
  {
   "cell_type": "code",
   "execution_count": 12,
   "id": "c09d1dff",
   "metadata": {
    "scrolled": true
   },
   "outputs": [
    {
     "name": "stderr",
     "output_type": "stream",
     "text": [
      "ic| lrc.predict(X_test[:3].values): array([0, 1, 1], dtype=uint8)\n",
      "ic| accuracy_score(lrc.predict(X_test[:3].values), y_test[:3].values): 1.0\n",
      "ic| accuracy_score(lrc.predict(X_test.values), y_test.values): 1.0\n",
      "ic| confusion_matrix(lrc.predict(X_test.values), y_test.values): array([[7, 0],\n",
      "                                                                        [0, 9]], dtype=int64)\n"
     ]
    },
    {
     "name": "stdout",
     "output_type": "stream",
     "text": [
      "              precision    recall  f1-score   support\n",
      "\n",
      "           0       1.00      1.00      1.00         7\n",
      "           1       1.00      1.00      1.00         9\n",
      "\n",
      "    accuracy                           1.00        16\n",
      "   macro avg       1.00      1.00      1.00        16\n",
      "weighted avg       1.00      1.00      1.00        16\n",
      "\n"
     ]
    }
   ],
   "source": [
    "# Predict where the population came from\n",
    "lrc = LogisticRegression(max_iter=1000, random_state=42)\n",
    "# Site has numeric dtype names and forces using .values attr\n",
    "lrc.fit(X_train.values, y_train.values)\n",
    "\n",
    "# Predict only first 3\n",
    "ic(lrc.predict(X_test[:3].values))\n",
    "# Accuracy of 1st 3\n",
    "ic(accuracy_score(lrc.predict(X_test[:3].values), y_test[:3].values))\n",
    "# Accuracy of entire test set\n",
    "ic(accuracy_score(lrc.predict(X_test.values), y_test.values))\n",
    "# Confusion matrix\n",
    "ic(confusion_matrix(lrc.predict(X_test.values), y_test.values));\n",
    "print(classification_report(lrc.predict(X_test.values), y_test.values))"
   ]
  },
  {
   "cell_type": "markdown",
   "id": "38c7178b",
   "metadata": {},
   "source": [
    "The Logistic Regression classifier's is predicting one (or none) possum to be part of the 'other' population when it is actually of the 'Victorian' population (False Positive in this case).\n",
    "\n",
    "Note that precision and recall aren't of high importance as predicting possum population is not a critical assessment; accuracy is sufficient.\n",
    "\n",
    "The test set size is quite small due to having only 104 possums for our sample. We can use cross validation to get a better understanding of how our model is performing."
   ]
  },
  {
   "cell_type": "code",
   "execution_count": 13,
   "id": "e946f97c",
   "metadata": {},
   "outputs": [
    {
     "name": "stderr",
     "output_type": "stream",
     "text": [
      "ic| cv: array([0.94444444, 1.        , 1.        , 1.        , 1.        ])\n",
      "ic| cv: array([1.        , 0.83333333, 1.        , 0.83333333, 1.        ,\n",
      "               1.        , 1.        , 1.        , 1.        , 1.        ,\n",
      "               1.        , 0.83333333, 1.        , 1.        , 1.        ])\n"
     ]
    }
   ],
   "source": [
    "cv = cross_val_score(LogisticRegression(max_iter=1000), \n",
    "                     X_train.values, \n",
    "                     y_train.values, cv = 5);\n",
    "ic(cv)\n",
    "cv = cross_val_score(LogisticRegression(max_iter=1000), X_train.values, y_train.values, cv = 15);\n",
    "ic(cv);\n"
   ]
  },
  {
   "cell_type": "markdown",
   "id": "40010115",
   "metadata": {},
   "source": [
    "The classifier is working pretty well. We should expect a poorer performance on at least one of the splits due to the sample size."
   ]
  },
  {
   "cell_type": "markdown",
   "id": "7ab499c4",
   "metadata": {},
   "source": [
    "# Decision Tree Classification"
   ]
  },
  {
   "cell_type": "code",
   "execution_count": 14,
   "id": "060ba1b7",
   "metadata": {},
   "outputs": [
    {
     "data": {
      "text/html": [
       "<style>#sk-container-id-1 {color: black;background-color: white;}#sk-container-id-1 pre{padding: 0;}#sk-container-id-1 div.sk-toggleable {background-color: white;}#sk-container-id-1 label.sk-toggleable__label {cursor: pointer;display: block;width: 100%;margin-bottom: 0;padding: 0.3em;box-sizing: border-box;text-align: center;}#sk-container-id-1 label.sk-toggleable__label-arrow:before {content: \"▸\";float: left;margin-right: 0.25em;color: #696969;}#sk-container-id-1 label.sk-toggleable__label-arrow:hover:before {color: black;}#sk-container-id-1 div.sk-estimator:hover label.sk-toggleable__label-arrow:before {color: black;}#sk-container-id-1 div.sk-toggleable__content {max-height: 0;max-width: 0;overflow: hidden;text-align: left;background-color: #f0f8ff;}#sk-container-id-1 div.sk-toggleable__content pre {margin: 0.2em;color: black;border-radius: 0.25em;background-color: #f0f8ff;}#sk-container-id-1 input.sk-toggleable__control:checked~div.sk-toggleable__content {max-height: 200px;max-width: 100%;overflow: auto;}#sk-container-id-1 input.sk-toggleable__control:checked~label.sk-toggleable__label-arrow:before {content: \"▾\";}#sk-container-id-1 div.sk-estimator input.sk-toggleable__control:checked~label.sk-toggleable__label {background-color: #d4ebff;}#sk-container-id-1 div.sk-label input.sk-toggleable__control:checked~label.sk-toggleable__label {background-color: #d4ebff;}#sk-container-id-1 input.sk-hidden--visually {border: 0;clip: rect(1px 1px 1px 1px);clip: rect(1px, 1px, 1px, 1px);height: 1px;margin: -1px;overflow: hidden;padding: 0;position: absolute;width: 1px;}#sk-container-id-1 div.sk-estimator {font-family: monospace;background-color: #f0f8ff;border: 1px dotted black;border-radius: 0.25em;box-sizing: border-box;margin-bottom: 0.5em;}#sk-container-id-1 div.sk-estimator:hover {background-color: #d4ebff;}#sk-container-id-1 div.sk-parallel-item::after {content: \"\";width: 100%;border-bottom: 1px solid gray;flex-grow: 1;}#sk-container-id-1 div.sk-label:hover label.sk-toggleable__label {background-color: #d4ebff;}#sk-container-id-1 div.sk-serial::before {content: \"\";position: absolute;border-left: 1px solid gray;box-sizing: border-box;top: 0;bottom: 0;left: 50%;z-index: 0;}#sk-container-id-1 div.sk-serial {display: flex;flex-direction: column;align-items: center;background-color: white;padding-right: 0.2em;padding-left: 0.2em;position: relative;}#sk-container-id-1 div.sk-item {position: relative;z-index: 1;}#sk-container-id-1 div.sk-parallel {display: flex;align-items: stretch;justify-content: center;background-color: white;position: relative;}#sk-container-id-1 div.sk-item::before, #sk-container-id-1 div.sk-parallel-item::before {content: \"\";position: absolute;border-left: 1px solid gray;box-sizing: border-box;top: 0;bottom: 0;left: 50%;z-index: -1;}#sk-container-id-1 div.sk-parallel-item {display: flex;flex-direction: column;z-index: 1;position: relative;background-color: white;}#sk-container-id-1 div.sk-parallel-item:first-child::after {align-self: flex-end;width: 50%;}#sk-container-id-1 div.sk-parallel-item:last-child::after {align-self: flex-start;width: 50%;}#sk-container-id-1 div.sk-parallel-item:only-child::after {width: 0;}#sk-container-id-1 div.sk-dashed-wrapped {border: 1px dashed gray;margin: 0 0.4em 0.5em 0.4em;box-sizing: border-box;padding-bottom: 0.4em;background-color: white;}#sk-container-id-1 div.sk-label label {font-family: monospace;font-weight: bold;display: inline-block;line-height: 1.2em;}#sk-container-id-1 div.sk-label-container {text-align: center;}#sk-container-id-1 div.sk-container {/* jupyter's `normalize.less` sets `[hidden] { display: none; }` but bootstrap.min.css set `[hidden] { display: none !important; }` so we also need the `!important` here to be able to override the default hidden behavior on the sphinx rendered scikit-learn.org. See: https://github.com/scikit-learn/scikit-learn/issues/21755 */display: inline-block !important;position: relative;}#sk-container-id-1 div.sk-text-repr-fallback {display: none;}</style><div id=\"sk-container-id-1\" class=\"sk-top-container\"><div class=\"sk-text-repr-fallback\"><pre>DecisionTreeClassifier(random_state=42)</pre><b>In a Jupyter environment, please rerun this cell to show the HTML representation or trust the notebook. <br />On GitHub, the HTML representation is unable to render, please try loading this page with nbviewer.org.</b></div><div class=\"sk-container\" hidden><div class=\"sk-item\"><div class=\"sk-estimator sk-toggleable\"><input class=\"sk-toggleable__control sk-hidden--visually\" id=\"sk-estimator-id-1\" type=\"checkbox\" checked><label for=\"sk-estimator-id-1\" class=\"sk-toggleable__label sk-toggleable__label-arrow\">DecisionTreeClassifier</label><div class=\"sk-toggleable__content\"><pre>DecisionTreeClassifier(random_state=42)</pre></div></div></div></div></div>"
      ],
      "text/plain": [
       "DecisionTreeClassifier(random_state=42)"
      ]
     },
     "execution_count": 14,
     "metadata": {},
     "output_type": "execute_result"
    }
   ],
   "source": [
    "dtc = DecisionTreeClassifier(random_state=42)\n",
    "dtc.fit(X_train.values, y_train.values);"
   ]
  },
  {
   "cell_type": "code",
   "execution_count": 15,
   "id": "a7361d0f",
   "metadata": {},
   "outputs": [
    {
     "data": {
      "text/plain": [
       "array([ True,  True,  True,  True,  True,  True,  True,  True,  True,\n",
       "        True,  True,  True,  True,  True,  True,  True])"
      ]
     },
     "execution_count": 15,
     "metadata": {},
     "output_type": "execute_result"
    }
   ],
   "source": [
    "# Just to show the unregularized tree will severly overfit the data\n",
    "dtc.predict(X_test.values) == y_test.values"
   ]
  },
  {
   "cell_type": "code",
   "execution_count": 34,
   "id": "0ba6eb1b",
   "metadata": {},
   "outputs": [
    {
     "name": "stderr",
     "output_type": "stream",
     "text": [
      "ic| accuracy_score(gs.predict(X_test.values), y_test.values): 0.875\n"
     ]
    }
   ],
   "source": [
    "max_depth = 10 # Set up depth of heirarchy\n",
    "min_samples_split = 10\n",
    "\n",
    "dtc_params = {\n",
    "    'criterion' : ['gini', 'entropy', 'log_loss'], # Expect similar trees with all methods\n",
    "    'splitter' : ['random'],               # Random should speed up training if the task was bigger\n",
    "    'max_depth' : list(range(1, max_depth)),          # Prevent tree from becoming \"pure\" (overfit)\n",
    "    'min_samples_split' : list(range(1, min_samples_split)), # Regularizing : prevents unnecessary computations\n",
    "    'min_samples_leaf' : [10]                      # Regularizing\n",
    "}\n",
    "\n",
    "gs = GridSearchCV(DecisionTreeClassifier(random_state=42), param_grid=dtc_params, verbose = 0)\n",
    "gs.fit(X_train.values, y_train.values)\n",
    "ic(accuracy_score(gs.predict(X_test.values), y_test.values));"
   ]
  },
  {
   "cell_type": "code",
   "execution_count": 54,
   "id": "f130d33d",
   "metadata": {},
   "outputs": [
    {
     "data": {
      "text/plain": [
       "{'criterion': 'gini',\n",
       " 'max_depth': 2,\n",
       " 'min_samples_leaf': 10,\n",
       " 'min_samples_split': 1,\n",
       " 'splitter': 'random'}"
      ]
     },
     "execution_count": 54,
     "metadata": {},
     "output_type": "execute_result"
    }
   ],
   "source": [
    "gs.best_params_"
   ]
  },
  {
   "cell_type": "code",
   "execution_count": 134,
   "id": "e505301c",
   "metadata": {},
   "outputs": [
    {
     "data": {
      "text/plain": [
       "' Want to add a chunk to add parameters to dtc_params...\\ncannot use d1.update(d2) as it works in-place AND makes a copy'"
      ]
     },
     "execution_count": 134,
     "metadata": {},
     "output_type": "execute_result"
    }
   ],
   "source": [
    "# Random forest classifier dictionary additions\n",
    "# \"additions\" as its parameters are similar those of Decision Tree\n",
    "\n",
    "\n",
    "\n",
    "''' Want to add a chunk to add parameters to dtc_params...\n",
    "cannot use d1.update(d2) as it works in-place AND makes a copy'''\n",
    "# rfc_addtns = {'n_estimators' : list(range(20,110,10))}\n",
    "\n",
    "# rfc_addtns\n",
    "\n",
    "# dtc_params.update(rfc_addtns)\n",
    "\n",
    "# del dtc_params['n_estimators']\n",
    "\n",
    "# rfc_params = dtc_params.update(rfc_addtns)\n",
    "\n",
    "# dtc_params\n",
    "\n",
    "# gs.best_params_"
   ]
  },
  {
   "cell_type": "markdown",
   "id": "f720cc69",
   "metadata": {},
   "source": [
    "The accuracy is 100%, but on multiple runs we see a drop... < 10%. Again not surprising."
   ]
  },
  {
   "cell_type": "code",
   "execution_count": 36,
   "id": "91389ee4",
   "metadata": {},
   "outputs": [
    {
     "name": "stderr",
     "output_type": "stream",
     "text": [
      "ic| feats: [(0.0, 2),\n",
      "            (0.0, 3),\n",
      "            (0.0, 4),\n",
      "            (0.0, 5),\n",
      "            (0.0, 6),\n",
      "            (0.0, 7),\n",
      "            (0.0, 'm'),\n",
      "            (0.0, 'age'),\n",
      "            (0.0, 'hdlngth'),\n",
      "            (0.0, 'skullw'),\n",
      "            (0.0, 'totlngth'),\n",
      "            (0.19, 'taill'),\n",
      "            (0.0, 'footlgth'),\n",
      "            (0.81, 'earconch'),\n",
      "            (0.0, 'eye'),\n",
      "            (0.0, 'chest'),\n",
      "            (0.0, 'belly')]\n"
     ]
    }
   ],
   "source": [
    "# store importances because the attr name is long\n",
    "importances = gs.best_estimator_.feature_importances_.round(2)\n",
    "col_names = X_train.columns # also longish\n",
    "\n",
    "# zip features with its importance\n",
    "feats = list(zip(importances, col_names))\n",
    "ic(feats)\n",
    "\n",
    "# sort by importance\n",
    "feats.sort(key=lambda feat: feat[0])\n",
    "# important features to the front\n",
    "feats.reverse()"
   ]
  },
  {
   "cell_type": "code",
   "execution_count": 37,
   "id": "bf2c6583",
   "metadata": {},
   "outputs": [
    {
     "name": "stdout",
     "output_type": "stream",
     "text": [
      "        feature      importance\n",
      "---------------------------------------------\n",
      "       earconch            0.81\n",
      "          taill            0.19\n"
     ]
    }
   ],
   "source": [
    "# Print important features\n",
    "headers = ['feature', 'importance']\n",
    "print('{:>15} {:>15}'.format(headers[0], headers[1]))\n",
    "print('---------------------------------------------')\n",
    "\n",
    "for (i, j) in feats:\n",
    "    \n",
    "    # If i is not 0\n",
    "    if i:\n",
    "        print(f'{j:>15}', f'{i:>15}')\n",
    "        \n",
    "    # At the first 0 occurence, break\n",
    "    # bc everything else is 0\n",
    "    else: \n",
    "        break"
   ]
  },
  {
   "cell_type": "markdown",
   "id": "1961fc77",
   "metadata": {},
   "source": [
    "What is moderately surprising is that the decision tree finds the possum's ear size as the best predictor of the possum's population for the decision tree. This is confirmed by choosing \"best\" or \"random\" for the `splitter` argument."
   ]
  },
  {
   "cell_type": "markdown",
   "id": "1ad011b1",
   "metadata": {},
   "source": [
    "# Ensemble: Random Forest Classification"
   ]
  },
  {
   "cell_type": "markdown",
   "id": "032a4186",
   "metadata": {},
   "source": [
    "Since our task in predicting possum population is not too difficult, and we are only going to look at stronger algorithms, we will reduce the training-test split to 50/50 and see how the algorithms perform. We will also quickly revisit the Logistic Regression and Decision Tree classifiers."
   ]
  },
  {
   "cell_type": "code",
   "execution_count": 118,
   "id": "fe3fabac",
   "metadata": {},
   "outputs": [],
   "source": [
    "X_train, X_test, y_train, y_test = train_test_split(X, y, test_size=.5, random_state=42)"
   ]
  },
  {
   "cell_type": "code",
   "execution_count": 129,
   "id": "6b4b508c",
   "metadata": {},
   "outputs": [
    {
     "name": "stderr",
     "output_type": "stream",
     "text": [
      "ic| lrc_cv5: array([1.        , 1.        , 0.95238095, 0.95238095, 0.95      ])\n",
      "ic| lrc_cv10: array([1. , 1. , 1. , 1. , 0.9, 1. , 0.9, 1. , 0.9, 1. ])\n",
      "ic| dtc_cv5: array([0.66666667, 0.80952381, 0.95238095, 0.95238095, 0.7       ])\n",
      "ic| dtc_cv10: array([0.90909091, 1.        , 0.72727273, 0.90909091, 0.9       ,\n",
      "                     0.8       , 1.        , 0.9       , 0.7       , 0.8       ])\n"
     ]
    }
   ],
   "source": [
    "############## LOGISTIC REGRESSION #################\n",
    "\n",
    "lrc_cv5 = cross_val_score(LogisticRegression(max_iter=1000), \n",
    "                         X.values, \n",
    "                         y.values, cv = 5);\n",
    "ic(lrc_cv5)\n",
    "\n",
    "lrc_cv10 = cross_val_score(LogisticRegression(max_iter=1000), \n",
    "                         X.values, \n",
    "                         y.values, cv = 10);\n",
    "ic(lrc_cv10)\n",
    "\n",
    "############## DECISION TREES ####################\n",
    "\n",
    "dtc_cv5 = cross_val_score(DecisionTreeClassifier(**gs.best_params_,random_state=42),\n",
    "                         X.values, \n",
    "                         y.values, cv = 5);\n",
    "\n",
    "ic(dtc_cv5);\n",
    "\n",
    "dtc_cv10 = cross_val_score(DecisionTreeClassifier(**gs.best_params_,random_state=42),\n",
    "                         X.values, \n",
    "                         y.values, cv = 10);\n",
    "\n",
    "ic(dtc_cv10);"
   ]
  },
  {
   "cell_type": "markdown",
   "id": "df3d7ea9",
   "metadata": {},
   "source": [
    "The Logistic Regression classifier is a still a strong baseline classifier, but notice now that the performance of the Decision Tree degrades when trained on less samples, even when the classifier has the best parameters from the earlier `gridsearchCV`. Overfitting has become apparent for the Decision Tree and it's likely that performance will degrade further with more observations.\n",
    "\n",
    "Below we see that the Random Forest is a strong classifier and will perform well on both small splits of data and large."
   ]
  },
  {
   "cell_type": "code",
   "execution_count": 120,
   "id": "0bd48d5b",
   "metadata": {},
   "outputs": [],
   "source": [
    "rfc_params = {\n",
    "    'n_estimators' : 100,\n",
    "    'max_depth' : 10\n",
    "}\n",
    "\n",
    "rfc = RandomForestClassifier(**rfc_params, random_state=42)"
   ]
  },
  {
   "cell_type": "code",
   "execution_count": 121,
   "id": "97630a91",
   "metadata": {},
   "outputs": [
    {
     "data": {
      "text/html": [
       "<style>#sk-container-id-12 {color: black;background-color: white;}#sk-container-id-12 pre{padding: 0;}#sk-container-id-12 div.sk-toggleable {background-color: white;}#sk-container-id-12 label.sk-toggleable__label {cursor: pointer;display: block;width: 100%;margin-bottom: 0;padding: 0.3em;box-sizing: border-box;text-align: center;}#sk-container-id-12 label.sk-toggleable__label-arrow:before {content: \"▸\";float: left;margin-right: 0.25em;color: #696969;}#sk-container-id-12 label.sk-toggleable__label-arrow:hover:before {color: black;}#sk-container-id-12 div.sk-estimator:hover label.sk-toggleable__label-arrow:before {color: black;}#sk-container-id-12 div.sk-toggleable__content {max-height: 0;max-width: 0;overflow: hidden;text-align: left;background-color: #f0f8ff;}#sk-container-id-12 div.sk-toggleable__content pre {margin: 0.2em;color: black;border-radius: 0.25em;background-color: #f0f8ff;}#sk-container-id-12 input.sk-toggleable__control:checked~div.sk-toggleable__content {max-height: 200px;max-width: 100%;overflow: auto;}#sk-container-id-12 input.sk-toggleable__control:checked~label.sk-toggleable__label-arrow:before {content: \"▾\";}#sk-container-id-12 div.sk-estimator input.sk-toggleable__control:checked~label.sk-toggleable__label {background-color: #d4ebff;}#sk-container-id-12 div.sk-label input.sk-toggleable__control:checked~label.sk-toggleable__label {background-color: #d4ebff;}#sk-container-id-12 input.sk-hidden--visually {border: 0;clip: rect(1px 1px 1px 1px);clip: rect(1px, 1px, 1px, 1px);height: 1px;margin: -1px;overflow: hidden;padding: 0;position: absolute;width: 1px;}#sk-container-id-12 div.sk-estimator {font-family: monospace;background-color: #f0f8ff;border: 1px dotted black;border-radius: 0.25em;box-sizing: border-box;margin-bottom: 0.5em;}#sk-container-id-12 div.sk-estimator:hover {background-color: #d4ebff;}#sk-container-id-12 div.sk-parallel-item::after {content: \"\";width: 100%;border-bottom: 1px solid gray;flex-grow: 1;}#sk-container-id-12 div.sk-label:hover label.sk-toggleable__label {background-color: #d4ebff;}#sk-container-id-12 div.sk-serial::before {content: \"\";position: absolute;border-left: 1px solid gray;box-sizing: border-box;top: 0;bottom: 0;left: 50%;z-index: 0;}#sk-container-id-12 div.sk-serial {display: flex;flex-direction: column;align-items: center;background-color: white;padding-right: 0.2em;padding-left: 0.2em;position: relative;}#sk-container-id-12 div.sk-item {position: relative;z-index: 1;}#sk-container-id-12 div.sk-parallel {display: flex;align-items: stretch;justify-content: center;background-color: white;position: relative;}#sk-container-id-12 div.sk-item::before, #sk-container-id-12 div.sk-parallel-item::before {content: \"\";position: absolute;border-left: 1px solid gray;box-sizing: border-box;top: 0;bottom: 0;left: 50%;z-index: -1;}#sk-container-id-12 div.sk-parallel-item {display: flex;flex-direction: column;z-index: 1;position: relative;background-color: white;}#sk-container-id-12 div.sk-parallel-item:first-child::after {align-self: flex-end;width: 50%;}#sk-container-id-12 div.sk-parallel-item:last-child::after {align-self: flex-start;width: 50%;}#sk-container-id-12 div.sk-parallel-item:only-child::after {width: 0;}#sk-container-id-12 div.sk-dashed-wrapped {border: 1px dashed gray;margin: 0 0.4em 0.5em 0.4em;box-sizing: border-box;padding-bottom: 0.4em;background-color: white;}#sk-container-id-12 div.sk-label label {font-family: monospace;font-weight: bold;display: inline-block;line-height: 1.2em;}#sk-container-id-12 div.sk-label-container {text-align: center;}#sk-container-id-12 div.sk-container {/* jupyter's `normalize.less` sets `[hidden] { display: none; }` but bootstrap.min.css set `[hidden] { display: none !important; }` so we also need the `!important` here to be able to override the default hidden behavior on the sphinx rendered scikit-learn.org. See: https://github.com/scikit-learn/scikit-learn/issues/21755 */display: inline-block !important;position: relative;}#sk-container-id-12 div.sk-text-repr-fallback {display: none;}</style><div id=\"sk-container-id-12\" class=\"sk-top-container\"><div class=\"sk-text-repr-fallback\"><pre>RandomForestClassifier(max_depth=10, random_state=42)</pre><b>In a Jupyter environment, please rerun this cell to show the HTML representation or trust the notebook. <br />On GitHub, the HTML representation is unable to render, please try loading this page with nbviewer.org.</b></div><div class=\"sk-container\" hidden><div class=\"sk-item\"><div class=\"sk-estimator sk-toggleable\"><input class=\"sk-toggleable__control sk-hidden--visually\" id=\"sk-estimator-id-12\" type=\"checkbox\" checked><label for=\"sk-estimator-id-12\" class=\"sk-toggleable__label sk-toggleable__label-arrow\">RandomForestClassifier</label><div class=\"sk-toggleable__content\"><pre>RandomForestClassifier(max_depth=10, random_state=42)</pre></div></div></div></div></div>"
      ],
      "text/plain": [
       "RandomForestClassifier(max_depth=10, random_state=42)"
      ]
     },
     "execution_count": 121,
     "metadata": {},
     "output_type": "execute_result"
    }
   ],
   "source": [
    "rfc.fit(X_train.values, y_train.values)"
   ]
  },
  {
   "cell_type": "code",
   "execution_count": 127,
   "id": "8fff2a41",
   "metadata": {},
   "outputs": [
    {
     "data": {
      "text/plain": [
       "array([[0.68, 0.32],\n",
       "       [0.04, 0.96],\n",
       "       [0.1 , 0.9 ],\n",
       "       [0.17, 0.83],\n",
       "       [0.95, 0.05],\n",
       "       [0.09, 0.91],\n",
       "       [0.02, 0.98],\n",
       "       [0.15, 0.85],\n",
       "       [0.91, 0.09],\n",
       "       [0.83, 0.17]])"
      ]
     },
     "execution_count": 127,
     "metadata": {},
     "output_type": "execute_result"
    }
   ],
   "source": [
    "rfc.predict_proba(X_test.values).round(2)[:10]"
   ]
  },
  {
   "cell_type": "code",
   "execution_count": 123,
   "id": "326940e9",
   "metadata": {
    "collapsed": true
   },
   "outputs": [
    {
     "data": {
      "text/plain": [
       "array([0, 1, 1, 1, 0, 1, 1, 1, 0, 0, 0, 0, 1, 1, 1, 0, 1, 0, 0, 0, 1, 1,\n",
       "       0, 1, 0, 1, 0, 0, 1, 0, 1, 0, 1, 1, 0, 1, 0, 1, 1, 0, 0, 0, 1, 0,\n",
       "       0, 0, 1, 1, 0, 0, 1, 0], dtype=uint8)"
      ]
     },
     "execution_count": 123,
     "metadata": {},
     "output_type": "execute_result"
    }
   ],
   "source": [
    "rfc.predict(X_test.values).round(2)"
   ]
  },
  {
   "cell_type": "code",
   "execution_count": 124,
   "id": "a27ebffd",
   "metadata": {},
   "outputs": [
    {
     "data": {
      "text/plain": [
       "0.9807692307692307"
      ]
     },
     "execution_count": 124,
     "metadata": {},
     "output_type": "execute_result"
    }
   ],
   "source": [
    "accuracy_score(rfc.predict(X_test.values), y_test.values)"
   ]
  },
  {
   "cell_type": "code",
   "execution_count": 133,
   "id": "8078db92",
   "metadata": {},
   "outputs": [
    {
     "name": "stderr",
     "output_type": "stream",
     "text": [
      "ic| rfc_5050: array([1. , 1. , 1. , 1. , 1. , 1. , 0.8, 1. , 1. , 1. ])\n",
      "ic| rfc_full: array([1. , 1. , 1. , 1. , 1. , 1. , 1. , 1. , 0.9, 1. ])\n"
     ]
    },
    {
     "data": {
      "text/plain": [
       "array([1. , 1. , 1. , 1. , 1. , 1. , 1. , 1. , 0.9, 1. ])"
      ]
     },
     "execution_count": 133,
     "metadata": {},
     "output_type": "execute_result"
    }
   ],
   "source": [
    "########### RFC ON 50/50 TRAINING SET ##################\n",
    "\n",
    "rfc_5050 = cross_val_score(RandomForestClassifier(**rfc_params, random_state=42),\n",
    "               X = X_train.values, y = y_train.values, cv = 10)\n",
    "\n",
    "ic(rfc_5050)\n",
    "########### RFC ON FULL SET ##################\n",
    "rfc_full = cross_val_score(RandomForestClassifier(**rfc_params, random_state=42),\n",
    "               X = X.values, y = y.values, cv = 10)\n",
    "\n",
    "ic(rfc_full);"
   ]
  },
  {
   "cell_type": "markdown",
   "id": "90315ec6",
   "metadata": {},
   "source": [
    "# Ensemble: Bagging Classifier\n",
    "We will also look at the Bagging Classifier. Perhaps I should have done this first considering Random Forests are Bagging Classifiers that add random subsetting of features."
   ]
  },
  {
   "cell_type": "code",
   "execution_count": null,
   "id": "90b7a4aa",
   "metadata": {},
   "outputs": [],
   "source": [
    "BaggingClassifier()"
   ]
  },
  {
   "cell_type": "code",
   "execution_count": null,
   "id": "0dd3ec4b",
   "metadata": {},
   "outputs": [],
   "source": []
  },
  {
   "cell_type": "code",
   "execution_count": 19,
   "id": "b8c17ff6",
   "metadata": {},
   "outputs": [
    {
     "data": {
      "text/plain": [
       "'\\n1. Input kwargs ()\\n2. Do cross validation (cv)\\n3. write outputs (verbose)\\n4. df (T/F)\\n5. save\\n\\n'"
      ]
     },
     "execution_count": 19,
     "metadata": {},
     "output_type": "execute_result"
    }
   ],
   "source": [
    "# Function for testing\n",
    "\n",
    "'''\n",
    "1. Input kwargs ()\n",
    "2. Do cross validation (cv)\n",
    "3. write outputs (verbose)\n",
    "4. df (T/F)\n",
    "5. save\n",
    "\n",
    "'''"
   ]
  },
  {
   "cell_type": "code",
   "execution_count": null,
   "id": "cf2f7db3",
   "metadata": {},
   "outputs": [],
   "source": []
  }
 ],
 "metadata": {
  "kernelspec": {
   "display_name": "Python 3 (ipykernel)",
   "language": "python",
   "name": "python3"
  },
  "language_info": {
   "codemirror_mode": {
    "name": "ipython",
    "version": 3
   },
   "file_extension": ".py",
   "mimetype": "text/x-python",
   "name": "python",
   "nbconvert_exporter": "python",
   "pygments_lexer": "ipython3",
   "version": "3.10.9"
  }
 },
 "nbformat": 4,
 "nbformat_minor": 5
}
